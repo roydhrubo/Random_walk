{
  "nbformat": 4,
  "nbformat_minor": 0,
  "metadata": {
    "colab": {
      "provenance": [],
      "authorship_tag": "ABX9TyM3FTXued6qXG6B1/PpWWYJ",
      "include_colab_link": true
    },
    "kernelspec": {
      "name": "python3",
      "display_name": "Python 3"
    },
    "language_info": {
      "name": "python"
    }
  },
  "cells": [
    {
      "cell_type": "markdown",
      "metadata": {
        "id": "view-in-github",
        "colab_type": "text"
      },
      "source": [
        "<a href=\"https://colab.research.google.com/github/roydhrubo/Random_walk/blob/main/random_walk.ipynb\" target=\"_parent\"><img src=\"https://colab.research.google.com/assets/colab-badge.svg\" alt=\"Open In Colab\"/></a>"
      ]
    },
    {
      "cell_type": "code",
      "execution_count": 1,
      "metadata": {
        "id": "j1FPNrvOC7Oo"
      },
      "outputs": [],
      "source": [
        "import numpy as np\n",
        "import random as rand\n",
        "import matplotlib.pyplot as plt\n"
      ]
    },
    {
      "cell_type": "code",
      "source": [
        "N=100\n",
        "time=100\n",
        "#ensemble=5000000\n",
        "ensemble=100000\n",
        "randLim = 0.5\n",
        "step=2\n",
        "\n",
        "x=np.arange(-N,N+1,step)\n",
        "y=np.zeros(len(x))\n",
        "\n",
        "for i in range(ensemble):\n",
        "    pos=0\n",
        "    for j in range(time):\n",
        "        r=rand.random()\n",
        "        if(r<=randLim):\n",
        "            pos = pos + 1\n",
        "        elif(r>randLim):\n",
        "            pos = pos - 1   \n",
        "    \n",
        "    indx = int( (N+pos)/step ) \n",
        "    y[indx]+=1\n",
        "\n",
        "y=y/ensemble\n",
        "\n",
        "dat = np.array([x,y])\n",
        "dat = dat.T\n",
        "np.savetxt('RandPosProbtst.txt',dat,delimiter = '\\t')\n",
        "\n",
        "plt.plot(x,y)\n",
        "plt.show()"
      ],
      "metadata": {
        "colab": {
          "base_uri": "https://localhost:8080/",
          "height": 265
        },
        "id": "zF-7JxtHDO4P",
        "outputId": "244a18a2-5755-4a2b-f97f-16b69869d67f"
      },
      "execution_count": 6,
      "outputs": [
        {
          "output_type": "display_data",
          "data": {
            "text/plain": [
              "<Figure size 432x288 with 1 Axes>"
            ],
            "image/png": "[encoded data removed]"
          },
          "metadata": {
            "needs_background": "light"
          }
        }
      ]
    },
    {
      "cell_type": "code",
      "source": [],
      "metadata": {
        "id": "S4kiIsBODhy8"
      },
      "execution_count": null,
      "outputs": []
    }
  ]
}